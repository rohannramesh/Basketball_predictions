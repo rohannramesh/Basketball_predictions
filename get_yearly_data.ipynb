{
 "cells": [
  {
   "cell_type": "code",
   "execution_count": 19,
   "metadata": {},
   "outputs": [],
   "source": [
    "# Going to be taking the data for yearly stats from basketball reference.com\n",
    "import requests\n",
    "from bs4 import BeautifulSoup\n",
    "years_to_grab = range(2010,2019)\n",
    "\n",
    "html_format = 'https://www.basketball-reference.com/leagues/NBA_2012_per_game.html'\n",
    "\n",
    "# iterate through each year\n",
    "all_soups = {}\n",
    "for curr_year in years_to_grab:\n",
    "    # to iterate through each year just replace the year from above\n",
    "    curr_html = html_format.replace(\"2012\", str(curr_year))\n",
    "    # get data from proper page  and store in all_soups\n",
    "    page = requests.get(curr_html)\n",
    "    all_soups[str(curr_year)] = BeautifulSoup(page.text,'lxml')"
   ]
  },
  {
   "cell_type": "code",
   "execution_count": 20,
   "metadata": {},
   "outputs": [
    {
     "name": "stdout",
     "output_type": "stream",
     "text": [
      "600\n",
      "647\n",
      "574\n",
      "596\n",
      "635\n",
      "675\n",
      "601\n",
      "619\n",
      "690\n"
     ]
    }
   ],
   "source": [
    "# For each year lets extract the data and respective headers\n",
    "all_data = {}\n",
    "all_headers = {}\n",
    "for curr_year in years_to_grab:\n",
    "    data = []\n",
    "    headers = []\n",
    "    table = all_soups[str(curr_year)].find('table')\n",
    "    table_body = table.find('tbody')\n",
    "    rows = table_body.find_all('tr')\n",
    "    nRows = len(rows)\n",
    "    print nRows\n",
    "\n",
    "    # to actually extract the data for each year\n",
    "    for curr_row in rows:\n",
    "        all_col_that_row = curr_row.find_all('td')\n",
    "        if len(all_col_that_row) > 0:\n",
    "            data_curr_row = []\n",
    "            for curr_col in all_col_that_row:\n",
    "                # if isnumeric convert to float for later math\n",
    "                if isfloat(curr_col.text):\n",
    "                    data_curr_row.append(float(curr_col.text))\n",
    "                else:\n",
    "                    data_curr_row.append(curr_col.text)      \n",
    "            data.append(data_curr_row)\n",
    "    # now lets save\n",
    "    all_data[str(curr_year)] = data\n",
    "    \n",
    "\n",
    "    # lets also get the header information so can index into each category quickly\n",
    "    table_head = table.find('thead')\n",
    "    table_head_row = table_head.find('tr')\n",
    "    th_col = table_head_row.find_all('th')\n",
    "    for curr_head in th_col:\n",
    "        headers.append(curr_head.text)\n",
    "\n",
    "    # have to remove first value or headers bc rank isn't an actual value in data scraped\n",
    "    headers.remove('Rk')\n",
    "    all_headers[str(curr_year)] = headers\n"
   ]
  },
  {
   "cell_type": "code",
   "execution_count": 14,
   "metadata": {},
   "outputs": [],
   "source": [
    "# all helper functions for this script\n",
    "import numpy as np\n",
    "\n",
    "# quickly test if value is a float\n",
    "def isfloat(value):\n",
    "  try:\n",
    "    float(value)\n",
    "    return True\n",
    "  except ValueError:\n",
    "    return False\n",
    "\n",
    "# make a function that quickly will give you all values in a column that you care about\n",
    "# assumes that the length of the headers label matches the number of columns in the dataset\n",
    "def get_stats_player(dataset,headers,year,stat=\"all\",name=\"all\"):\n",
    "    if isinstance(year,str):\n",
    "        curr_data = dataset[year]\n",
    "        curr_headers = headers[year]\n",
    "    else:\n",
    "        curr_data = dataset[str(year)]\n",
    "        curr_headers = headers[str(year)]\n",
    "    # if want all stats see what that should be\n",
    "    if stat == \"all\":\n",
    "        stat = [curr_headers[i] for i in range(0,len(curr_data[0])) if isfloat(curr_data[0][i])]\n",
    "    # check if type of data is a list and if not make it one\n",
    "    if isinstance(stat, list) == False:\n",
    "        stat = [stat]\n",
    "    # these are the columns to use based off the stats selected\n",
    "    col_to_use = []\n",
    "    for curr_category in stat:\n",
    "        col_to_use.append(curr_headers.index(curr_category))\n",
    "    # now grab that col of the dataset for those players you want\n",
    "    output_data = []\n",
    "    for curr_col in col_to_use:\n",
    "        curr_vec = []\n",
    "        all_names =[]\n",
    "        for curr_row in range(0,np.shape(curr_data)[0]):\n",
    "            curr_vec.append(curr_data[curr_row][curr_col])\n",
    "            all_names.append(curr_data[curr_row][curr_headers.index(\"Player\")])\n",
    "        output_data.append(curr_vec)\n",
    "        if name!= \"all\":\n",
    "            final_output = []\n",
    "            for curr_output in range(0,np.shape(output_data)[0]):\n",
    "                final_output.append(output_data[curr_output][all_names.index(name)])\n",
    "        else:\n",
    "            final_output = output_data\n",
    "    return final_output\n"
   ]
  },
  {
   "cell_type": "code",
   "execution_count": 22,
   "metadata": {},
   "outputs": [
    {
     "name": "stdout",
     "output_type": "stream",
     "text": [
      "[27.0, 70.0, 70.0, 32.7, 4.0, 8.8, 0.454, 1.1, 3.7, 0.301, 2.9, 5.2, 0.562, 0.516, 1.9, 2.5, 0.775, 1.1, 6.6, 7.6, 7.3, 1.4, 1.3, 2.9, 2.6, 11.0]\n",
      "[u'Player', u'Pos', u'Age', u'Tm', u'G', u'GS', u'MP', u'FG', u'FGA', u'FG%', u'3P', u'3PA', u'3P%', u'2P', u'2PA', u'2P%', u'eFG%', u'FT', u'FTA', u'FT%', u'ORB', u'DRB', u'TRB', u'AST', u'STL', u'BLK', u'TOV', u'PF', u'PS/G']\n"
     ]
    }
   ],
   "source": [
    "test = get_stats_player(all_data,all_headers,2018,stat=\"all\",name=\"Draymond Green\")\n",
    "print test\n",
    "print headers"
   ]
  },
  {
   "cell_type": "code",
   "execution_count": null,
   "metadata": {
    "collapsed": true
   },
   "outputs": [],
   "source": []
  }
 ],
 "metadata": {
  "kernelspec": {
   "display_name": "Python 2",
   "language": "python",
   "name": "python2"
  },
  "language_info": {
   "codemirror_mode": {
    "name": "ipython",
    "version": 2
   },
   "file_extension": ".py",
   "mimetype": "text/x-python",
   "name": "python",
   "nbconvert_exporter": "python",
   "pygments_lexer": "ipython2",
   "version": "2.7.11"
  }
 },
 "nbformat": 4,
 "nbformat_minor": 2
}
