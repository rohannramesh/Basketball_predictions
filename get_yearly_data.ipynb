{
 "cells": [
  {
   "cell_type": "code",
   "execution_count": 19,
   "metadata": {},
   "outputs": [],
   "source": [
    "# Going to be taking the data for yearly stats from basketball reference.com\n",
    "import requests\n",
    "from bs4 import BeautifulSoup\n",
    "years_to_grab = range(2010,2019)\n",
    "\n",
    "html_format = 'https://www.basketball-reference.com/leagues/NBA_2012_per_game.html'\n",
    "\n",
    "# iterate through each year\n",
    "all_soups = {}\n",
    "for curr_year in years_to_grab:\n",
    "    # to iterate through each year just replace the year from above\n",
    "    curr_html = html_format.replace(\"2012\", str(curr_year))\n",
    "    # get data from proper page  and store in all_soups\n",
    "    page = requests.get(curr_html)\n",
    "    all_soups[str(curr_year)] = BeautifulSoup(page.text,'lxml')"
   ]
  },
  {
   "cell_type": "code",
   "execution_count": 20,
   "metadata": {},
   "outputs": [
    {
     "name": "stdout",
     "output_type": "stream",
     "text": [
      "600\n",
      "647\n",
      "574\n",
      "596\n",
      "635\n",
      "675\n",
      "601\n",
      "619\n",
      "690\n"
     ]
    }
   ],
   "source": [
    "# For each year lets extract the data and respective headers\n",
    "all_data = {}\n",
    "all_headers = {}\n",
    "for curr_year in years_to_grab:\n",
    "    data = []\n",
    "    headers = []\n",
    "    table = all_soups[str(curr_year)].find('table')\n",
    "    table_body = table.find('tbody')\n",
    "    rows = table_body.find_all('tr')\n",
    "    nRows = len(rows)\n",
    "    print nRows\n",
    "\n",
    "    # to actually extract the data for each year\n",
    "    for curr_row in rows:\n",
    "        all_col_that_row = curr_row.find_all('td')\n",
    "        if len(all_col_that_row) > 0:\n",
    "            data_curr_row = []\n",
    "            for curr_col in all_col_that_row:\n",
    "                # if isnumeric convert to float for later math\n",
    "                if isfloat(curr_col.text):\n",
    "                    data_curr_row.append(float(curr_col.text))\n",
    "                else:\n",
    "                    data_curr_row.append(curr_col.text)      \n",
    "            data.append(data_curr_row)\n",
    "    # now lets save\n",
    "    all_data[str(curr_year)] = data\n",
    "    \n",
    "\n",
    "    # lets also get the header information so can index into each category quickly\n",
    "    table_head = table.find('thead')\n",
    "    table_head_row = table_head.find('tr')\n",
    "    th_col = table_head_row.find_all('th')\n",
    "    for curr_head in th_col:\n",
    "        headers.append(curr_head.text)\n",
    "\n",
    "    # have to remove first value or headers bc rank isn't an actual value in data scraped\n",
    "    headers.remove('Rk')\n",
    "    all_headers[str(curr_year)] = headers\n"
   ]
  },
  {
   "cell_type": "code",
   "execution_count": 73,
   "metadata": {},
   "outputs": [],
   "source": [
    "# all helper functions for this script\n",
    "import numpy as np\n",
    "\n",
    "# quickly test if value is a float\n",
    "def isfloat(value):\n",
    "  try:\n",
    "    float(value)\n",
    "    return True\n",
    "  except ValueError:\n",
    "    return False\n",
    "\n",
    "# make a function that quickly will give you all values in a column that you care about\n",
    "# assumes that the length of the headers label matches the number of columns in the dataset\n",
    "def get_stats_player(dataset,headers,year,stat=\"all\",name=\"all\",pos='all'):\n",
    "    if isinstance(year,str):\n",
    "        curr_data = dataset[year]\n",
    "        curr_headers = headers[year]\n",
    "    else:\n",
    "        curr_data = dataset[str(year)]\n",
    "        curr_headers = headers[str(year)]\n",
    "    # if want all stats see what that should be\n",
    "    if stat == \"all\":\n",
    "        stat = [curr_headers[i] for i in range(0,len(curr_data[0])) if isfloat(curr_data[0][i])]\n",
    "    # check if type of data is a list and if not make it one\n",
    "    if isinstance(stat, list) == False:\n",
    "        stat = [stat]\n",
    "    # these are the columns to use based off the stats selected\n",
    "    col_to_use = []\n",
    "    for curr_category in stat:\n",
    "        col_to_use.append(curr_headers.index(curr_category))\n",
    "    # for indexing purposes lets grab all of the names and all of the positions\n",
    "    all_names =[]\n",
    "    all_pos = []\n",
    "    for curr_row in range(0,np.shape(curr_data)[0]):\n",
    "        # get all the names\n",
    "        all_names.append(curr_data[curr_row][curr_headers.index(\"Player\")])\n",
    "        # get all the positions\n",
    "        all_pos.append(curr_data[curr_row][curr_headers.index(\"Pos\")])\n",
    "#     print all_pos\n",
    "    # now grab that col of the dataset for those players you want\n",
    "    data_for_relevant_col = []\n",
    "    for curr_col in col_to_use:\n",
    "        curr_vec = []\n",
    "        for curr_row in range(0,np.shape(curr_data)[0]):\n",
    "            curr_vec.append(curr_data[curr_row][curr_col])\n",
    "        data_for_relevant_col.append(curr_vec)\n",
    "    # assuming you will either sort by name or position\n",
    "    if name!= \"all\":\n",
    "        final_output = []\n",
    "        for curr_cat in range(0,np.shape(data_for_relevant_col)[0]):\n",
    "            final_output.append(data_for_relevant_col[curr_cat][all_names.index(name)])\n",
    "    elif pos!= \"all\":\n",
    "        # this is the index of all rows with this position\n",
    "        idx = [curr_pos for curr_pos in range(0,len(all_pos)) if pos in all_pos[curr_pos]]\n",
    "        final_output = []\n",
    "        for curr_cat in range(0,np.shape(data_for_relevant_col)[0]):\n",
    "            for curr_idx in idx:\n",
    "                final_output.append(data_for_relevant_col[curr_cat][curr_idx])  \n",
    "    else:\n",
    "        final_output = output_data\n",
    "    return final_output\n"
   ]
  },
  {
   "cell_type": "code",
   "execution_count": 78,
   "metadata": {},
   "outputs": [
    {
     "name": "stdout",
     "output_type": "stream",
     "text": [
      "[u'Kadeem Allen', u'Ryan Arcidiacono', u'D.J. Augustin', u'Wade Baldwin', u'Lonzo Ball', u'J.J. Barea', u'Eric Bledsoe', u'Eric Bledsoe', u'Eric Bledsoe', u'Malcolm Brogdon', u'Aaron Brooks', u'Bobby Brown', u'Lorenzo Brown', u'Trey Burke', u'Dwight Buycks', u'Jose Calderon', u'Isaiah Canaan', u'Isaiah Canaan', u'Michael Carter-Williams', u'Alex Caruso', u'Mario Chalmers', u'Darren Collison', u'Mike Conley', u'Quinn Cook', u'Stephen Curry', u'Malcolm Delaney', u'Matthew Dellavedova', u'Spencer Dinwiddie', u'PJ Dozier', u'Goran Dragic', u'Larry Drew', u'Larry Drew', u'Larry Drew', u'Kris Dunn', u'Tyler Ennis', u'Jawun Evans', u'Tyreke Evans', u'Dante Exum', u'Kay Felder', u'Kay Felder', u'Kay Felder', u'Raymond Felton', u\"De'Aaron Fox\", u'Tim Frazier', u'Jonathan Gibson', u'Jerian Grant', u'Josh Gray', u'Devin Harris', u'Devin Harris', u'Devin Harris', u'Andrew Harrison', u'Shaquille Harrison', u'George Hill', u'George Hill', u'George Hill', u'Kyrie Irving', u'Jarrett Jack', u'Aaron Jackson', u'Demetrius Jackson', u'Demetrius Jackson', u'Demetrius Jackson', u'Reggie Jackson', u'Mike James', u'Mike James', u'Mike James', u'Brandon Jennings', u'Tyler Johnson', u'Tyus Jones', u'Cory Joseph', u'Shane Larkin', u'Walt Lemon, Jr.', u'Damian Lillard', u'Jeremy Lin', u'Shaun Livingston', u'Kyle Lowry', u'Shelvin Mack', u'Josh Magette', u'Frank Mason', u'T.J. McConnell', u'Patty Mills', u'Monte Morris', u'Emmanuel Mudiay', u'Emmanuel Mudiay', u'Emmanuel Mudiay', u'Dejounte Murray', u'Jamal Murray', u'Shabazz Napier', u'Jameer Nelson', u'Jameer Nelson', u'Jameer Nelson', u'Raul Neto', u'Frank Ntilikina', u'Marcus Paige', u'Tony Parker', u'Chris Paul', u'Cameron Payne', u'Elfrid Payton', u'Elfrid Payton', u'Elfrid Payton', u'Gary Payton', u'Gary Payton', u'Gary Payton', u'London Perrantes', u'Jacob Pullen', u'Rajon Rondo', u'Derrick Rose', u'Derrick Rose', u'Derrick Rose', u'Terry Rozier', u'Ricky Rubio', u\"D'Angelo Russell\", u'Dennis Schroder', u'Ramon Sessions', u'Ramon Sessions', u'Ramon Sessions', u'Ben Simmons', u'Kobi Simmons', u'Dennis Smith', u'Ish Smith', u'David Stockton', u'Edmond Sumner', u'Isaiah Taylor', u'Jeff Teague', u'Marquis Teague', u'Milos Teodosic', u'Isaiah Thomas', u'Isaiah Thomas', u'Isaiah Thomas', u'Tyler Ulis', u'Fred VanVleet', u'Kemba Walker', u'John Wall', u'Tyrone Wallace', u'Derrick Walton', u'Briante Weber', u'Briante Weber', u'Briante Weber', u'Russell Westbrook', u'Derrick White', u'Isaiah Whitehead', u'Nate Wolters', u'Delon Wright', u'Joe Young']\n",
      "[u'Player', u'Pos', u'Age', u'Tm', u'G', u'GS', u'MP', u'FG', u'FGA', u'FG%', u'3P', u'3PA', u'3P%', u'2P', u'2PA', u'2P%', u'eFG%', u'FT', u'FTA', u'FT%', u'ORB', u'DRB', u'TRB', u'AST', u'STL', u'BLK', u'TOV', u'PF', u'PS/G']\n"
     ]
    }
   ],
   "source": [
    "# test = get_stats_player(all_data,all_headers,2018,stat=\"all\",name=\"Alex Abrines\")\n",
    "test = get_stats_player(all_data,all_headers,2018,stat=\"Player\",pos=\"PG\")\n",
    "print test\n",
    "print headers\n"
   ]
  },
  {
   "cell_type": "code",
   "execution_count": 23,
   "metadata": {
    "collapsed": true
   },
   "outputs": [],
   "source": [
    "# for saving\n",
    "import json\n",
    "  \n",
    "json = json.dumps(all_data)\n",
    "f = open(\"/Users/rohanramesh/Documents/SportsData/NBA/YearlyData.json\",\"w\")\n",
    "f.write(json)\n",
    "f.close()"
   ]
  },
  {
   "cell_type": "code",
   "execution_count": 48,
   "metadata": {},
   "outputs": [
    {
     "name": "stdout",
     "output_type": "stream",
     "text": [
      "[1, 10, 13, 15, 16, 20, 34, 42, 48, 49, 54, 64, 66, 67, 68, 69, 70, 110, 114, 123, 127, 132, 148, 152, 157, 169, 171, 175, 186, 195, 208, 212, 215, 219, 223, 225, 226, 227, 228, 229, 240, 241, 242, 256, 261, 281, 283, 284, 286, 287, 288, 293, 303, 310, 312, 313, 314, 316, 320, 335, 344, 346, 349, 351, 357, 364, 378, 379, 387, 388, 392, 393, 398, 407, 410, 416, 417, 418, 419, 428, 430, 432, 433, 435, 456, 464, 467, 473, 482, 485, 489, 499, 506, 507, 510, 515, 517, 542, 545, 552, 563, 573, 578, 586, 590, 592, 604, 605, 606, 617, 628, 632, 634, 636, 638, 643, 645, 648, 649, 650, 652, 656]\n"
     ]
    }
   ],
   "source": [
    "matching = [curr_pos for curr_pos in range(0,len(test)) if 'PF' in test[curr_pos]]\n",
    "print matching"
   ]
  },
  {
   "cell_type": "code",
   "execution_count": null,
   "metadata": {
    "collapsed": true
   },
   "outputs": [],
   "source": []
  }
 ],
 "metadata": {
  "kernelspec": {
   "display_name": "Python 2",
   "language": "python",
   "name": "python2"
  },
  "language_info": {
   "codemirror_mode": {
    "name": "ipython",
    "version": 2
   },
   "file_extension": ".py",
   "mimetype": "text/x-python",
   "name": "python",
   "nbconvert_exporter": "python",
   "pygments_lexer": "ipython2",
   "version": "2.7.11"
  }
 },
 "nbformat": 4,
 "nbformat_minor": 2
}
