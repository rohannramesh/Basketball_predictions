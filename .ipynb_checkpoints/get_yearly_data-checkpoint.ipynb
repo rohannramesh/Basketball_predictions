{
 "cells": [
  {
   "cell_type": "code",
   "execution_count": 2,
   "metadata": {},
   "outputs": [],
   "source": [
    "import sys\n",
    "sys.path.append(\"/Users/rohanramesh/Documents/GitHub/Basketball_predictions/lib/\")\n",
    "import requests\n",
    "from bs4 import BeautifulSoup\n",
    "import numpy as np\n",
    "from IPython.core.debugger import set_trace\n",
    "import re\n",
    "import difflib\n",
    "import pandas as pd\n",
    "import matplotlib.pyplot as plt\n",
    "%matplotlib inline\n",
    "import time\n",
    "from scipy import stats\n",
    "import pickle\n",
    "import get_player_team_data as ptd"
   ]
  },
  {
   "cell_type": "markdown",
   "metadata": {},
   "source": [
    "# Single player statistics"
   ]
  },
  {
   "cell_type": "markdown",
   "metadata": {},
   "source": [
    "For single player data, I will be scraping this data from www.basketball-reference.com for the last 10 years. There are three different types of statistics I will be scraping. Per game statistics are how many points, assists, minutes, etc. that player averaged per game. For these statistics, the number of minutes a player plays will heavily influence the actual numbers. Per 100 possession statistics, will not factor in the number of minutes played, but rather will extrapolate out as if each player had the same number of possessions. These are useful numbers, but can suffer due to small sample size for players who do not play a lot. Finally, advanced statistics are an amalgamation of single player statistics."
   ]
  },
  {
   "cell_type": "code",
   "execution_count": 3,
   "metadata": {},
   "outputs": [],
   "source": [
    "# Scrape data for yearly stats from basketball reference.com\n",
    "# these are the years we will analyze\n",
    "years_to_grab = range(2008,2019)\n",
    "\n",
    "# addressses of the websites from 2012\n",
    "per_game_stats = 'https://www.basketball-reference.com/leagues/NBA_2012_per_game.html'\n",
    "advanced_stats = 'https://www.basketball-reference.com/leagues/NBA_2012_advanced.html'\n",
    "per_100_pos = 'https://www.basketball-reference.com/leagues/NBA_2012_per_poss.html'\n",
    "\n",
    "# iterate through each year\n",
    "all_soups = {}\n",
    "all_adv_soups = {}\n",
    "all_100pos_soups = {}\n",
    "for curr_year in years_to_grab:\n",
    "    output_soups = ptd.get_soups([per_game_stats, advanced_stats, per_100_pos], curr_year)\n",
    "    all_soups[str(curr_year)] = output_soups['0']\n",
    "    all_adv_soups[str(curr_year)] = output_soups['1']\n",
    "    all_100pos_soups[str(curr_year)] = output_soups['2']\n"
   ]
  },
  {
   "cell_type": "code",
   "execution_count": 4,
   "metadata": {},
   "outputs": [],
   "source": [
    "# For each year lets extract the data and respective headers\n",
    "yearly_data = {}\n",
    "yearly_data_adv = {}\n",
    "yearly_data_100pos = {}\n",
    "yearly_headers = {}\n",
    "yearly_headers_adv = {}\n",
    "yearly_headers_100pos = {}\n",
    "for curr_year in years_to_grab:\n",
    "    (yearly_data[str(curr_year)],headers) = ptd.get_data_table(all_soups[str(curr_year)])\n",
    "    (yearly_data_adv[str(curr_year)],headers_adv) = ptd.get_data_table(all_adv_soups[str(curr_year)])\n",
    "    (yearly_data_100pos[str(curr_year)],headers_100pos) = ptd.get_data_table(all_100pos_soups[str(curr_year)])\n",
    "    # remove the ranking label bc meaningless\n",
    "    headers.remove('Rk')\n",
    "    headers_adv.remove('Rk')\n",
    "    headers_100pos.remove('Rk')\n",
    "    yearly_headers[str(curr_year)] = headers\n",
    "    yearly_headers_adv[str(curr_year)] = headers_adv\n",
    "    yearly_headers_100pos[str(curr_year)] = headers_100pos"
   ]
  },
  {
   "cell_type": "code",
   "execution_count": 5,
   "metadata": {},
   "outputs": [
    {
     "name": "stdout",
     "output_type": "stream",
     "text": [
      "2008\n",
      "2009\n",
      "2010\n",
      "2011\n",
      "2012\n",
      "2013\n",
      "2014\n",
      "2015\n",
      "2016\n",
      "2017\n",
      "2018\n"
     ]
    }
   ],
   "source": [
    "# Build the DataFrame for player stats per year\n",
    "# Because of table formatting first will create a dict and then convert to a dataFrame\n",
    "Yearly_df = {}\n",
    "Yearly_df_adv = {}\n",
    "Yearly_df_100pos = {}\n",
    "# iterate through all years\n",
    "for curr_year in years_to_grab:\n",
    "    print(curr_year)\n",
    "    output_df = ptd.build_dataframe([yearly_data, yearly_data_adv, yearly_data_100pos], \n",
    "                    [yearly_headers, yearly_headers_adv, yearly_headers_100pos], curr_year)\n",
    "    Yearly_df[str(curr_year)] = output_df[0]\n",
    "    Yearly_df_adv[str(curr_year)] = output_df[1]\n",
    "    Yearly_df_100pos[str(curr_year)] = output_df[2]\n"
   ]
  },
  {
   "cell_type": "markdown",
   "metadata": {},
   "source": [
    "This is what the dataFrame for a current year looks like for per game stats. Output is this year's Cleveland Cavaliers:"
   ]
  },
  {
   "cell_type": "code",
   "execution_count": 6,
   "metadata": {},
   "outputs": [
    {
     "name": "stdout",
     "output_type": "stream",
     "text": [
      "               Player Pos    MP  PS/G  AST    2P%    3P%\n",
      "303      LeBron James  PF  36.9  27.5  9.1  0.603  0.367\n",
      "561        J.R. Smith  SG  28.1   8.3  1.8  0.453  0.375\n",
      "375        Kevin Love   C  28.0  17.6  1.7  0.494  0.415\n",
      "266       George Hill  PG  27.9   9.4  2.8  0.509  0.351\n",
      "584     Isaiah Thomas  PG  27.1  14.7  4.5  0.449  0.253\n",
      "141       Jae Crowder  SF  25.4   8.6  1.1  0.508  0.328\n",
      "276       Rodney Hood  SG  25.3  10.8  1.4  0.492  0.352\n",
      "226        Jeff Green  PF  23.4  10.8  1.3  0.540  0.312\n",
      "609       Dwyane Wade  SG  23.2  11.2  3.5  0.479  0.329\n",
      "118   Jordan Clarkson  SG  22.6  12.6  1.7  0.486  0.407\n",
      "347       Kyle Korver  SG  21.6   9.2  1.2  0.537  0.436\n",
      "450       Larry Nance   C  20.8   8.9  1.0  0.572  0.125\n",
      "588  Tristan Thompson   C  20.2   5.8  0.6  0.562  0.000\n",
      "551     Iman Shumpert  SG  19.7   4.4  1.2  0.469  0.269\n",
      "534      Derrick Rose  PG  19.3   9.8  1.6  0.481  0.250\n",
      "98      Jose Calderon  PG  16.0   4.5  2.1  0.545  0.464\n",
      "497  Kendrick Perkins   C  15.0   3.0  2.0  0.500  0.000\n",
      "201     Channing Frye   C  12.4   4.8  0.6  0.684  0.333\n",
      "475        Cedi Osman  SF  11.0   3.9  0.7  0.586  0.368\n",
      "271      John Holland  SF   7.3   2.3  0.2  0.261  0.306\n",
      "662        Ante Zizic   C   6.7   3.7  0.2  0.731  0.000\n",
      "498  London Perrantes  PG   4.7   0.5  0.4  0.200  0.000\n"
     ]
    }
   ],
   "source": [
    "idx = Yearly_df['2018']['Tm'] == 'CLE'\n",
    "print(Yearly_df['2018'][['Player', 'Pos', 'MP', 'PS/G', 'AST', '2P%', '3P%']][idx].sort_values('MP', ascending=False))"
   ]
  },
  {
   "cell_type": "code",
   "execution_count": 10,
   "metadata": {},
   "outputs": [],
   "source": [
    "# lets built a stat that is fractional scoring from 3p and from 2p\n",
    "for curr_year in years_to_grab:\n",
    "    FG_fraction_2 = Yearly_df[str(curr_year)]['2P']/Yearly_df[str(curr_year)]['FG']\n",
    "    FG_fraction_3 = Yearly_df[str(curr_year)]['3P']/Yearly_df[str(curr_year)]['FG']\n",
    "    Scoring_fraction_2 = (Yearly_df[str(curr_year)]['2P']*2)/Yearly_df[str(curr_year)]['PS/G']\n",
    "    Scoring_fraction_3 = (Yearly_df[str(curr_year)]['3P']*3)/Yearly_df[str(curr_year)]['PS/G']\n",
    "    Yearly_df[str(curr_year)]['2P/FG'] = FG_fraction_2\n",
    "    Yearly_df[str(curr_year)]['3P/FG'] = FG_fraction_3\n",
    "    Yearly_df[str(curr_year)]['2P/PS'] = Scoring_fraction_2\n",
    "    Yearly_df[str(curr_year)]['3P/PS'] = Scoring_fraction_3\n",
    "    Yearly_df[str(curr_year)]['3PA/FGA'] = Yearly_df[str(curr_year)]['3PA']/Yearly_df[str(curr_year)]['FGA']\n",
    "    Yearly_df[str(curr_year)]['2PA/FGA'] = Yearly_df[str(curr_year)]['2PA']/Yearly_df[str(curr_year)]['FGA']\n",
    "    \n"
   ]
  },
  {
   "cell_type": "code",
   "execution_count": 12,
   "metadata": {},
   "outputs": [],
   "source": [
    "# remove doubles for each year\n",
    "for curr_year in years_to_grab:\n",
    "    print(curr_year)\n",
    "    Yearly_df[str(curr_year)] = ptd.keep_duplicate_player_most_minutes(Yearly_df[str(curr_year)])\n",
    "    Yearly_df_adv[str(curr_year)] = ptd.keep_duplicate_player_most_minutes(Yearly_df_adv[str(curr_year)])\n",
    "    Yearly_df_100pos[str(curr_year)] = ptd.keep_duplicate_player_most_minutes(Yearly_df_100pos[str(curr_year)])"
   ]
  },
  {
   "cell_type": "code",
   "execution_count": 14,
   "metadata": {},
   "outputs": [],
   "source": [
    "# Build new statistics that look at how stats change for a given player from year 1 to year 2\n",
    "stats_to_look_at_increment = ['PER','VORP','USG%','WS','MP']\n",
    "for curr_stat in stats_to_look_at_increment:\n",
    "    Yearly_df_adv = ptd.add_column_for_change_in_stat(Yearly_df_adv,curr_stat)\n",
    "    \n",
    "# for basic stats\n",
    "stats_to_look_at_increment = ['3PA','3P%','3P','3P/PS','AST','2PA','2P%','PS/G','MP']\n",
    "for curr_stat in stats_to_look_at_increment:\n",
    "    Yearly_df = ptd.add_column_for_change_in_stat(Yearly_df,curr_stat)\n",
    "\n",
    "# for per 100 pos stats\n",
    "stats_to_look_at_increment = ['3PA','3P%','3P','AST','2PA','2P%','PTS','MP','DRtg','ORtg','FG%']\n",
    "for curr_stat in stats_to_look_at_increment:\n",
    "    Yearly_df_100pos = ptd.add_column_for_change_in_stat(Yearly_df_100pos,curr_stat)"
   ]
  },
  {
   "cell_type": "code",
   "execution_count": 15,
   "metadata": {},
   "outputs": [],
   "source": [
    "# Combine all statistics into one dataFrame that is just for players\n",
    "# from get_player_team_data import combine_df\n",
    "df_all_stats = {}\n",
    "labels_for_each_df = ['_pergame','_adv','_per100']\n",
    "for curr_year in years_to_grab[1:]:\n",
    "    df_all_stats[str(curr_year)] = ptd.combine_df([Yearly_df[str(curr_year)],\n",
    "                                          Yearly_df_adv[str(curr_year)], \n",
    "                                          Yearly_df_100pos[str(curr_year)]],labels_for_each_df)"
   ]
  },
  {
   "cell_type": "code",
   "execution_count": null,
   "metadata": {},
   "outputs": [],
   "source": [
    "# for saving\n",
    "with open('/Users/rohanramesh/Documents/SportsData/NBA/YearlyBasicData.pickle', 'wb') as handle:\n",
    "    pickle.dump(Yearly_df, handle, protocol=pickle.HIGHEST_PROTOCOL)\n",
    "    \n",
    "with open('/Users/rohanramesh/Documents/SportsData/NBA/YearlyAdvData.pickle', 'wb') as handle:\n",
    "    pickle.dump(Yearly_df_adv, handle, protocol=pickle.HIGHEST_PROTOCOL)\n",
    "\n",
    "with open('/Users/rohanramesh/Documents/SportsData/NBA/Yearly100possData.pickle', 'wb') as handle:\n",
    "    pickle.dump(Yearly_df_100pos, handle, protocol=pickle.HIGHEST_PROTOCOL)\n",
    "\n",
    "# save new combined df\n",
    "with open('/Users/rohanramesh/Documents/SportsData/NBA/AllYearlyData_2008_2018.pickle', 'wb') as handle:\n",
    "    pickle.dump(df_all_stats, handle, protocol=pickle.HIGHEST_PROTOCOL)"
   ]
  },
  {
   "cell_type": "markdown",
   "metadata": {},
   "source": [
    "# Team statistics"
   ]
  },
  {
   "cell_type": "markdown",
   "metadata": {},
   "source": [
    "For team statistics we will scrape the data from www.foxsports.com. We will scrape 4 different types of team statistics: scoring statistics, shooting statistics, assist statistics, record (wins and losses). Unfortunately, for whatever reason the formatting between some of the team pages is slightly different and so we will have to retroactively edit some of the labels and heuristics for consistency within our dataset in order to build a common dataFrame."
   ]
  },
  {
   "cell_type": "code",
   "execution_count": 17,
   "metadata": {},
   "outputs": [],
   "source": [
    "# lets get the data from a page listing the ppg for and ppg against\n",
    "scoring_page = 'https://www.foxsports.com/nba/team-stats?season=2012&category=SCORING&group=1&time=0'\n",
    "shooting_page = 'https://www.foxsports.com/nba/team-stats?season=2012&category=SHOOTING&group=1&time=0'\n",
    "assists_page = 'https://www.foxsports.com/nba/team-stats?season=2012&category=ASSISTS&group=1&time=0'\n",
    "wins_page = 'https://www.foxsports.com/nba/standings?season=2012&seasonType=1&grouping=3&advanced=0'\n",
    "\n",
    "# iterate through each year\n",
    "all_scoring_soups = {}\n",
    "all_shooting_soups = {}\n",
    "all_ast_soups = {}\n",
    "all_wins_soups = {}\n",
    "for curr_year in years_to_grab:\n",
    "    # get soup for scoring, shooting, and assists\n",
    "    output_soups = ptd.get_soups([scoring_page, shooting_page, assists_page], curr_year)\n",
    "    all_scoring_soups[str(curr_year)] = output_soups['0']\n",
    "    all_shooting_soups[str(curr_year)] = output_soups['1']\n",
    "    all_ast_soups[str(curr_year)] = output_soups['2']    \n",
    "    # bc of formatting of the wins page have to use curr_year-1\n",
    "    output_soups2 = ptd.get_soups([wins_page], curr_year-1)\n",
    "    all_wins_soups[str(curr_year)] = output_soups2['0']    \n",
    "    "
   ]
  },
  {
   "cell_type": "code",
   "execution_count": 18,
   "metadata": {},
   "outputs": [],
   "source": [
    "# from get_player_team_data import get_yearly_data_foxsports\n",
    "# get the data from the foxsports websites and put into a dict for each year\n",
    "yearly_scoring_data = {}\n",
    "yearly_scoring_headers = {}\n",
    "yearly_shooting_data = {}\n",
    "yearly_shooting_headers = {}\n",
    "yearly_ast_data = {}\n",
    "yearly_ast_headers = {}\n",
    "yearly_wins_data = {}\n",
    "yearly_wins_headers = {}\n",
    "for curr_year in years_to_grab:\n",
    "    # for scoring\n",
    "    [a, curr_headers] = ptd.get_yearly_data_foxsports(all_scoring_soups[str(curr_year)])\n",
    "    yearly_scoring_data[str(curr_year)] = a\n",
    "    yearly_scoring_headers[str(curr_year)] = curr_headers\n",
    "    # for shooting\n",
    "    [a, curr_headers] = ptd.get_yearly_data_foxsports(all_shooting_soups[str(curr_year)])\n",
    "    yearly_shooting_data[str(curr_year)] = a\n",
    "    yearly_shooting_headers[str(curr_year)] = curr_headers\n",
    "    # for assists\n",
    "    [a, curr_headers] = ptd.get_yearly_data_foxsports(all_ast_soups[str(curr_year)])\n",
    "    yearly_ast_data[str(curr_year)] = a\n",
    "    yearly_ast_headers[str(curr_year)] = curr_headers\n",
    "    # for wins\n",
    "    [a, curr_headers] = ptd.get_yearly_data_foxsports(all_wins_soups[str(curr_year)],wins_tag=True)\n",
    "    yearly_wins_data[str(curr_year)] = a\n",
    "    yearly_wins_headers[str(curr_year)] = curr_headers"
   ]
  },
  {
   "cell_type": "code",
   "execution_count": 19,
   "metadata": {},
   "outputs": [
    {
     "name": "stdout",
     "output_type": "stream",
     "text": [
      "2008\n",
      "2009\n",
      "2010\n",
      "2011\n",
      "2012\n",
      "2013\n",
      "2014\n",
      "2015\n",
      "2016\n",
      "2017\n",
      "2018\n"
     ]
    }
   ],
   "source": [
    "# lets build the DataFrame - one for each year for all team based stats\n",
    "# Because of table formatting lets build giant dict with data from that year\n",
    "# and then convert this to a dataFrame as last step\n",
    "Yearly_df_team_shooting = {}\n",
    "Yearly_df_team_scoring = {}\n",
    "Yearly_df_team_ast = {}\n",
    "Yearly_df_team_wins = {}\n",
    "# Do independently for each year\n",
    "for curr_year in years_to_grab:\n",
    "    print(curr_year)\n",
    "    output_df = ptd.build_dataframe([yearly_scoring_data, yearly_shooting_data, yearly_ast_data, yearly_wins_data], \n",
    "                [yearly_scoring_headers, yearly_shooting_headers, yearly_ast_headers, yearly_wins_headers], curr_year)\n",
    "    Yearly_df_team_shooting[str(curr_year)] = output_df[0]\n",
    "    Yearly_df_team_scoring[str(curr_year)] = output_df[1]\n",
    "    Yearly_df_team_ast[str(curr_year)] = output_df[2]\n",
    "    Yearly_df_team_wins[str(curr_year)] = output_df[3]    \n",
    "    \n",
    "    \n"
   ]
  },
  {
   "cell_type": "code",
   "execution_count": 20,
   "metadata": {},
   "outputs": [],
   "source": [
    "# Let's change the wins team labels to match the other groups\n",
    "for curr_year in years_to_grab:\n",
    "    teams = Yearly_df_team_scoring[str(curr_year)]['Tm'].tolist()\n",
    "    teams_according_to_curr_df = Yearly_df_team_wins[str(curr_year)]['Tm'].tolist()\n",
    "    # remove everything after city name but before team acronym\n",
    "    new_team_ = [curr_team[curr_team.rfind(\" \")+1:] for curr_team in teams_according_to_curr_df]\n",
    "    # do same for the teams variable from first df\n",
    "    root_team_ = [curr_team[curr_team.rfind(\" \")+1:] for curr_team in teams]\n",
    "\n",
    "    # bc of team transferring from New Jersey to Brooklyn and websited not being up to date add\n",
    "    if curr_year == 2012:\n",
    "        new_team_ = [w.replace('NJ', 'BKN') for w in new_team_]\n",
    "\n",
    "    # now iterate through new team and find best match for the acronyms from all_teams\n",
    "    new_team_aligned = []\n",
    "    for curr_team in new_team_:   \n",
    "        aligned_tmp = (difflib.get_close_matches(curr_team,root_team_, n=1)[0])\n",
    "        new_team_aligned.append(teams[root_team_.index(aligned_tmp)])\n",
    "\n",
    "    Yearly_df_team_wins[str(curr_year)]['Tm'] = new_team_aligned"
   ]
  },
  {
   "cell_type": "code",
   "execution_count": 21,
   "metadata": {},
   "outputs": [],
   "source": [
    "# combine all of team dataFrames into one giant dataFrame with all relevant stats\n",
    "Yearly_df_team = {}\n",
    "for curr_year in years_to_grab[1:]:\n",
    "    Yearly_df_team[str(curr_year)] = ptd.reorder_team_df_and_combine([Yearly_df_team_scoring[str(curr_year)],\n",
    "                      Yearly_df_team_shooting[str(curr_year)], Yearly_df_team_ast[str(curr_year)], \n",
    "                                                  Yearly_df_team_wins[str(curr_year)]],\n",
    "                                                  ['_score','_shoot','_ast','_wins'])\n"
   ]
  },
  {
   "cell_type": "markdown",
   "metadata": {},
   "source": [
    "For a single team we can now easily extract multiple statistics about that team over time. Shown below is the team statistics for the Cleveland Cavaliers and the Golden State Warriors. The stats shown here include wins (W), losses (L), points per game (PPG), assists per game (APG), field goal percentage (FG%), and three-point field goals attempted per game (3FGA/G)"
   ]
  },
  {
   "cell_type": "code",
   "execution_count": 22,
   "metadata": {},
   "outputs": [
    {
     "name": "stdout",
     "output_type": "stream",
     "text": [
      "              Tm     W     L    PPG   APG    FG%  3FGA/G\n",
      "3  Cleveland CLE  50.0  32.0  110.9  23.4  0.476    32.1\n",
      "                Tm     W     L    PPG   APG    FG%  3FGA/G\n",
      "0  Golden State GS  58.0  24.0  113.5  29.3  0.503    28.9\n"
     ]
    }
   ],
   "source": [
    "idx = Yearly_df_team['2018']['Tm'] == 'Cleveland CLE'\n",
    "stats_show = ['Tm', 'W', 'L', 'PPG', 'APG', 'FG%', '3FGA/G']\n",
    "print(Yearly_df_team['2018'][stats_show][idx])\n",
    "idx = Yearly_df_team['2018']['Tm'] == 'Golden State GS'\n",
    "print(Yearly_df_team['2018'][stats_show][idx])"
   ]
  },
  {
   "cell_type": "code",
   "execution_count": 63,
   "metadata": {},
   "outputs": [
    {
     "name": "stdout",
     "output_type": "stream",
     "text": [
      "['3FG%', '3FG% ALLOW', '3FG%_shoot', '3FGA', '3FGA/G', '3FGM', '3FGM/G', 'APG', 'APG ALLOW', 'AST', 'AST/TO', 'Away', 'Conf', 'Diff', 'Div', 'FG%', 'FG% ALLOW', 'FG%_shoot', 'FGA', 'FGA/G', 'FGM', 'FGM/G', 'FT%', 'FT% ALLOW', 'FT%_shoot', 'FTA', 'FTA/G', 'FTM', 'FTM/G', 'GB', 'GP', 'GP_ast', 'GP_shoot', 'Home', 'L', 'L10', 'PA', 'PF', 'PPG', 'PPG ALLOW', 'PPG DIFF', 'PPG_shoot', 'PPS', 'PPS_shoot', 'PTS IN PAINT', 'PTS OFF TO', 'PTS/POSS', 'Pct', 'SEC CHANCE PTS', 'Strk', 'TO', 'TO%', 'TPG', 'TPG ALLOW', 'TPG DIFF', 'TS%', 'Tm', 'W', 'eFG%']\n"
     ]
    }
   ],
   "source": [
    "print(list(Yearly_df_team['2018']))"
   ]
  },
  {
   "cell_type": "code",
   "execution_count": 505,
   "metadata": {},
   "outputs": [],
   "source": [
    "# lets save the dataframe\n",
    "with open('/Users/rohanramesh/Documents/SportsData/NBA/YearlyTeamData.pickle', 'wb') as handle:\n",
    "    pickle.dump(Yearly_df_team, handle, protocol=pickle.HIGHEST_PROTOCOL)"
   ]
  }
 ],
 "metadata": {
  "kernelspec": {
   "display_name": "Python 3",
   "language": "python",
   "name": "python3"
  },
  "language_info": {
   "codemirror_mode": {
    "name": "ipython",
    "version": 3
   },
   "file_extension": ".py",
   "mimetype": "text/x-python",
   "name": "python",
   "nbconvert_exporter": "python",
   "pygments_lexer": "ipython3",
   "version": "3.6.4"
  }
 },
 "nbformat": 4,
 "nbformat_minor": 2
}
